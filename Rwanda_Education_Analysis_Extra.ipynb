{
 "cells": [
  {
   "cell_type": "markdown",
   "id": "db9092f1",
   "metadata": {},
   "source": [
    "# Rwanda Education Analysis"
   ]
  },
  {
   "cell_type": "markdown",
   "id": "a65324aa",
   "metadata": {},
   "source": [
    "This notebook contains additional visualizations for the Rwanda Education Capstone Project."
   ]
  },
  {
   "cell_type": "code",
   "execution_count": null,
   "id": "cc70203d",
   "metadata": {},
   "outputs": [],
   "source": [
    "\n",
    "import pandas as pd\n",
    "import matplotlib.pyplot as plt\n",
    "import seaborn as sns\n",
    "\n",
    "# Load the data\n",
    "data = {\n",
    "    \"Year\": [2020, 2020, 2020, 2021, 2021, 2021, 2022, 2022, 2022],\n",
    "    \"Province\": [\"Kigali\", \"Southern\", \"Northern\"] * 3,\n",
    "    \"Gender\": [\"Male\", \"Female\", \"Male\"] * 3,\n",
    "    \"School Type\": [\"Primary\", \"Secondary\", \"Primary\"] * 3,\n",
    "    \"Ownership\": [\"Public\", \"Private\", \"Private\"] * 3,\n",
    "    \"Total Enrolled\": [10000, 12000, 8000, 15000, 9000, 11000, 17000, 13000, 9500]\n",
    "}\n",
    "df = pd.DataFrame(data)\n",
    "sns.set(style=\"whitegrid\")\n",
    "df.head()\n"
   ]
  },
  {
   "cell_type": "markdown",
   "id": "113facb3",
   "metadata": {},
   "source": [
    "## Enrollment by Year and Gender"
   ]
  },
  {
   "cell_type": "code",
   "execution_count": null,
   "id": "3fea1e17",
   "metadata": {},
   "outputs": [],
   "source": [
    "\n",
    "plt.figure(figsize=(8, 5))\n",
    "sns.barplot(data=df, x=\"Year\", y=\"Total Enrolled\", hue=\"Gender\")\n",
    "plt.title(\"Enrollment by Year and Gender\")\n",
    "plt.tight_layout()\n",
    "plt.show()\n"
   ]
  },
  {
   "cell_type": "markdown",
   "id": "42db257f",
   "metadata": {},
   "source": [
    "## Enrollment by Province and Ownership"
   ]
  },
  {
   "cell_type": "code",
   "execution_count": null,
   "id": "b86d768a",
   "metadata": {},
   "outputs": [],
   "source": [
    "\n",
    "plt.figure(figsize=(8, 5))\n",
    "sns.barplot(data=df, x=\"Province\", y=\"Total Enrolled\", hue=\"Ownership\")\n",
    "plt.title(\"Enrollment by Province and Ownership\")\n",
    "plt.tight_layout()\n",
    "plt.show()\n"
   ]
  },
  {
   "cell_type": "markdown",
   "id": "5bf71d75",
   "metadata": {},
   "source": [
    "## Enrollment by School Type and Gender"
   ]
  },
  {
   "cell_type": "code",
   "execution_count": null,
   "id": "2f9cf91c",
   "metadata": {},
   "outputs": [],
   "source": [
    "\n",
    "plt.figure(figsize=(8, 5))\n",
    "sns.barplot(data=df, x=\"School Type\", y=\"Total Enrolled\", hue=\"Gender\")\n",
    "plt.title(\"Enrollment by School Type and Gender\")\n",
    "plt.tight_layout()\n",
    "plt.show()\n"
   ]
  },
  {
   "cell_type": "markdown",
   "id": "aa7b868d",
   "metadata": {},
   "source": [
    "## Total Enrollment Trend Over Years"
   ]
  },
  {
   "cell_type": "code",
   "execution_count": null,
   "id": "7e67c099",
   "metadata": {},
   "outputs": [],
   "source": [
    "\n",
    "plt.figure(figsize=(8, 5))\n",
    "sns.lineplot(data=df.groupby(\"Year\")[\"Total Enrolled\"].sum().reset_index(), x=\"Year\", y=\"Total Enrolled\", marker='o')\n",
    "plt.title(\"Total Enrollment Trend Over Years\")\n",
    "plt.tight_layout()\n",
    "plt.show()\n"
   ]
  },
  {
   "cell_type": "markdown",
   "id": "a28f815a",
   "metadata": {},
   "source": [
    "## Enrollment Distribution by Province"
   ]
  },
  {
   "cell_type": "code",
   "execution_count": null,
   "id": "a90585c9",
   "metadata": {},
   "outputs": [],
   "source": [
    "\n",
    "plt.figure(figsize=(8, 5))\n",
    "sns.boxplot(data=df, x=\"Province\", y=\"Total Enrolled\")\n",
    "plt.title(\"Enrollment Distribution by Province\")\n",
    "plt.tight_layout()\n",
    "plt.show()\n"
   ]
  }
 ],
 "metadata": {
  "kernelspec": {
   "display_name": "Python 3",
   "name": "python3"
  }
 },
 "nbformat": 4,
 "nbformat_minor": 5
}
